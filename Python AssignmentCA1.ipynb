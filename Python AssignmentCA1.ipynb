{
 "cells": [
  {
   "cell_type": "markdown",
   "id": "32d8d145-9ebd-47bb-90b2-69298ae0642b",
   "metadata": {},
   "source": [
    "# 1."
   ]
  },
  {
   "cell_type": "code",
   "execution_count": 4,
   "id": "27485e90-52b3-4894-9930-b44d395f74f7",
   "metadata": {},
   "outputs": [
    {
     "name": "stdin",
     "output_type": "stream",
     "text": [
      "Enter the First FLoat Number: 34.7\n",
      "Enter the Second Float Number: 89.3\n",
      "Enter the Third Float Number: 24.7\n"
     ]
    },
    {
     "name": "stdout",
     "output_type": "stream",
     "text": [
      "Sum:  148.7\n",
      "Average:  132.23333333333332\n"
     ]
    }
   ],
   "source": [
    "# 1. Write a program in Python to find the addition & average of three float numbers.\n",
    "num1=float(input(\"Enter the First FLoat Number:\"))\n",
    "num2=float(input(\"Enter the Second Float Number:\"))\n",
    "num3=float(input(\"Enter the Third Float Number:\"))\n",
    "print(\"Sum: \",num1+num2+num3)\n",
    "print(\"Average: \",num1+num2+num3/3)"
   ]
  },
  {
   "cell_type": "markdown",
   "id": "d4fb3ab1-f56d-4681-92aa-88814d6a6fb1",
   "metadata": {},
   "source": [
    "## 2."
   ]
  },
  {
   "cell_type": "code",
   "execution_count": 5,
   "id": "569b77b4-e17a-4149-9b89-5551f8ad2856",
   "metadata": {},
   "outputs": [
    {
     "name": "stdout",
     "output_type": "stream",
     "text": [
      "The given radius is: 6 cm\n",
      "Volume of the sphere is: 904.7786842338603 cm\n"
     ]
    }
   ],
   "source": [
    "# 2. Write a program in Python to find the volume of a sphere with radius 6cm.\n",
    "import math\n",
    "radius=6\n",
    "print(\"The given radius is:\", radius,\"cm\")\n",
    "print(\"Volume of the sphere is:\", (4/3)*math.pi*pow(radius,3),\"cm\")"
   ]
  },
  {
   "cell_type": "markdown",
   "id": "a8b2c458-de38-4678-a777-077a9d02740e",
   "metadata": {},
   "source": [
    "# 3."
   ]
  },
  {
   "cell_type": "code",
   "execution_count": 7,
   "id": "0e0c718a-d506-4ca1-8b60-250781ec850e",
   "metadata": {},
   "outputs": [
    {
     "name": "stdin",
     "output_type": "stream",
     "text": [
      "Enter the radius of the circle: 5.7\n"
     ]
    },
    {
     "name": "stdout",
     "output_type": "stream",
     "text": [
      "Radius: 5.7 cm\n",
      "Area of the Circle: 102.07034531513239 cm\n"
     ]
    }
   ],
   "source": [
    "# 3. Write a program in Python to find the area of a circle.\n",
    "import math\n",
    "radius=float(input(\"Enter the radius of the circle:\"))\n",
    "print(\"Radius:\",radius,\"cm\")\n",
    "print(\"Area of the Circle:\",math.pi*pow(radius,2),\"cm\")"
   ]
  },
  {
   "cell_type": "markdown",
   "id": "78907437-ba6d-425b-959e-065c40bce331",
   "metadata": {},
   "source": [
    "# 4."
   ]
  },
  {
   "cell_type": "code",
   "execution_count": 8,
   "id": "ef137afd-e98b-4a15-a601-84fc4d0f5149",
   "metadata": {},
   "outputs": [
    {
     "name": "stdin",
     "output_type": "stream",
     "text": [
      "Whats the Principle Amount: Rs- 3500\n",
      "Whats the rate of Interest:  5\n",
      "For how many Years:  10\n"
     ]
    },
    {
     "name": "stdout",
     "output_type": "stream",
     "text": [
      "Simple Interest: Rs- 1750.0\n"
     ]
    }
   ],
   "source": [
    "# 4. Write a program in Python to compute simple Interest.\n",
    "p=float(input(\"Whats the Principle Amount: Rs-\"))\n",
    "r=float(input(\"Whats the rate of Interest: \"))\n",
    "t=float(input(\"For how many Years: \"))\n",
    "print(\"Simple Interest: Rs-\",(p*r*t)/100)"
   ]
  },
  {
   "cell_type": "markdown",
   "id": "28579027-c0e6-486d-a9e5-d14e0f32ebce",
   "metadata": {},
   "source": [
    "# 5."
   ]
  },
  {
   "cell_type": "code",
   "execution_count": 9,
   "id": "4c23cec6-e777-4dc3-9b71-048cd9f9d49d",
   "metadata": {},
   "outputs": [
    {
     "name": "stdin",
     "output_type": "stream",
     "text": [
      "Enter the value for x:  5\n",
      "Enter the value for y:  6\n"
     ]
    },
    {
     "name": "stdout",
     "output_type": "stream",
     "text": [
      "Before swapping--\n",
      "x =  5.0\n",
      "y =  6.0\n",
      "After Swapping--\n",
      "x =  6.0\n",
      "y =  5.0\n"
     ]
    }
   ],
   "source": [
    "# 5. Write a program in Python to swap two numbers without using third variable\n",
    "x=float(input(\"Enter the value for x: \"))\n",
    "y=float(input(\"Enter the value for y: \"))\n",
    "print(\"Before swapping--\")\n",
    "print(\"x = \",x)\n",
    "print(\"y = \",y)\n",
    "x=x+y\n",
    "y=x-y\n",
    "x=x-y\n",
    "print(\"After Swapping--\")\n",
    "print(\"x = \",x)\n",
    "print(\"y = \",y)"
   ]
  },
  {
   "cell_type": "markdown",
   "id": "1e0f2971-24af-4032-be9f-1564edf2bb7d",
   "metadata": {},
   "source": [
    "# 6."
   ]
  },
  {
   "cell_type": "code",
   "execution_count": 10,
   "id": "c47cf48d-b12c-4840-b419-2e35456df31e",
   "metadata": {},
   "outputs": [
    {
     "name": "stdin",
     "output_type": "stream",
     "text": [
      "Whats the temperature in Celsius?  35\n"
     ]
    },
    {
     "name": "stdout",
     "output_type": "stream",
     "text": [
      "The Temperature in Fahrenheit: 95.0\n"
     ]
    }
   ],
   "source": [
    "# 6. Write a program in Python to convert any temperature from Celcius to Fahrenheit.\n",
    "temp=float(input(\"Whats the temperature in Celsius? \"))\n",
    "print(\"The Temperature in Fahrenheit:\",temp*(9/5)+32)"
   ]
  },
  {
   "cell_type": "markdown",
   "id": "bcae8d90-f822-4ee6-a365-461cdc7c780d",
   "metadata": {},
   "source": [
    "# 7."
   ]
  },
  {
   "cell_type": "code",
   "execution_count": 42,
   "id": "f8656e6e-154c-46ae-a0ca-791f955c7cd4",
   "metadata": {},
   "outputs": [
    {
     "name": "stdin",
     "output_type": "stream",
     "text": [
      "Enter the Number of Days:  365\n"
     ]
    },
    {
     "name": "stdout",
     "output_type": "stream",
     "text": [
      "No.of Years:1\n",
      "No.of Months:0\n",
      "No.of Weeks:0\n",
      "No.of Days:0\n"
     ]
    }
   ],
   "source": [
    "# 7. Write a program in Python to convert a given number of days into days, month, year and week\n",
    "days=int(input(\"Enter the Number of Days: \"))\n",
    "years=days//365\n",
    "remaining=days%365\n",
    "months=remaining//30\n",
    "remaining_days=remaining%30\n",
    "weeks=remaining//7\n",
    "remaining_days=remaining%7\n",
    "days=remaining\n",
    "print(f\"No.of Years:{years}\\nNo.of Months:{months}\\nNo.of Weeks:{weeks}\\nNo.of Days:{days}\")"
   ]
  },
  {
   "cell_type": "markdown",
   "id": "0bd027a9-2c43-417e-bfe3-78982b5e6d1c",
   "metadata": {},
   "source": [
    "# 8."
   ]
  },
  {
   "cell_type": "code",
   "execution_count": 23,
   "id": "368ae2c3-2dcc-42e4-86fc-e227bc27919b",
   "metadata": {},
   "outputs": [
    {
     "name": "stdin",
     "output_type": "stream",
     "text": [
      "Enter the mass of the first object (in kg):  34\n",
      "Enter the mass of the second object (in kg):  67\n",
      "Enter the distance between the two objects (in meters):  100\n"
     ]
    },
    {
     "name": "stdout",
     "output_type": "stream",
     "text": [
      "The gravitational force between the objects is 1.5203371999999998e-11 N\n"
     ]
    }
   ],
   "source": [
    "# 8. Write a Python Program to find the gravitational force acting between two objects.[G=N*(m1*m2)/d^2]\n",
    "m1=float(input(\"Enter the mass of the first object (in kg): \"))\n",
    "m2=float(input(\"Enter the mass of the second object (in kg): \"))\n",
    "d=float(input(\"Enter the distance between the two objects (in meters): \"))\n",
    "G=6.674*10**-11\n",
    "force=G*(m1*m2)/d**2\n",
    "print(f\"The gravitational force between the objects is {force} N\")"
   ]
  },
  {
   "cell_type": "markdown",
   "id": "32e5b381-5f70-4a22-b75b-89b018fae885",
   "metadata": {},
   "source": [
    "# 9."
   ]
  },
  {
   "cell_type": "code",
   "execution_count": 24,
   "id": "377a1377-444a-4978-a3df-aff1adcd7459",
   "metadata": {},
   "outputs": [
    {
     "name": "stdin",
     "output_type": "stream",
     "text": [
      "Enter The Number U want to Know wheather if its odd or not:  45\n"
     ]
    },
    {
     "name": "stdout",
     "output_type": "stream",
     "text": [
      "Odd\n"
     ]
    }
   ],
   "source": [
    "# 9. Write a program in Python to find given no is Even or Odd.\n",
    "num=int(input(\"Enter The Number U want to Know wheather if its odd or not: \"))\n",
    "if num%2==0:\n",
    "    print(\"Even\")\n",
    "else:\n",
    "    print(\"Odd\")"
   ]
  },
  {
   "cell_type": "markdown",
   "id": "64797c13-d515-4e52-8d7c-e6f88d1d0e9c",
   "metadata": {},
   "source": [
    "# 10."
   ]
  },
  {
   "cell_type": "code",
   "execution_count": 25,
   "id": "db2d8d88-8f7f-4309-b7f1-9bdd64b86489",
   "metadata": {},
   "outputs": [
    {
     "name": "stdin",
     "output_type": "stream",
     "text": [
      "Enter a number:  34\n"
     ]
    },
    {
     "name": "stdout",
     "output_type": "stream",
     "text": [
      "The result is: 38\n"
     ]
    }
   ],
   "source": [
    "# 10. Take input from user if it is greater than 15 print two times of difference if it’s less than 15 print four times of difference.\n",
    "number = int(input(\"Enter a number: \"))\n",
    "difference = number - 15\n",
    "\n",
    "if number>15:\n",
    "    result=2*difference\n",
    "    print(f\"The result is: {result}\")\n",
    "else:\n",
    "    result=4*difference\n",
    "    print(f\"The result is: {result}\")\n"
   ]
  },
  {
   "cell_type": "markdown",
   "id": "cb27417d-9faf-4c05-8b15-0ebeb9539aa9",
   "metadata": {},
   "source": [
    "# 11."
   ]
  },
  {
   "cell_type": "code",
   "execution_count": 26,
   "id": "18f437c4-6d0f-45b8-a8ad-74c3e09582df",
   "metadata": {},
   "outputs": [
    {
     "name": "stdin",
     "output_type": "stream",
     "text": [
      "Enter the 1st Num:  23\n",
      "Enter the 2nd Num:  67\n",
      "Enter the 3rd Num:  90\n"
     ]
    },
    {
     "name": "stdout",
     "output_type": "stream",
     "text": [
      "3rd Num is the largest which is:90\n"
     ]
    }
   ],
   "source": [
    "# 11. Write a program in Python to find largest among three numbers.\n",
    "num1=int(input(\"Enter the 1st Num: \"))\n",
    "num2=int(input(\"Enter the 2nd Num: \"))\n",
    "num3=int(input(\"Enter the 3rd Num: \"))\n",
    "if num1>num2 and num1>num3:\n",
    "    print(f\"1st Num is the largest which is:{num1}\")\n",
    "elif num2>num1 and num2>num3:\n",
    "    print(f\"2nd Num is the largest which is:{num2}\")\n",
    "else:\n",
    "    print(f\"3rd Num is the largest which is:{num3}\")"
   ]
  },
  {
   "cell_type": "markdown",
   "id": "050a2729-fd88-434e-b82c-7f43eaa5329e",
   "metadata": {},
   "source": [
    "# 12."
   ]
  },
  {
   "cell_type": "code",
   "execution_count": 35,
   "id": "340a6c44-7974-422e-9a9b-9d86c78aff8f",
   "metadata": {},
   "outputs": [
    {
     "name": "stdin",
     "output_type": "stream",
     "text": [
      "Enter the length of the first side:  37\n",
      "Enter the length of the second side:  85\n",
      "Enter the length of the third side:  32\n"
     ]
    },
    {
     "name": "stdout",
     "output_type": "stream",
     "text": [
      "Scalene\n"
     ]
    }
   ],
   "source": [
    "# 12. Write a program in Python to check a triangle is equilateral,scalene or isosclees.\n",
    "side1=float(input(\"Enter the length of the first side: \"))\n",
    "side2=float(input(\"Enter the length of the second side: \"))\n",
    "side3=float(input(\"Enter the length of the third side: \"))\n",
    "if side1==side2==side3:\n",
    "    print(\"Equilateral\")\n",
    "elif side1==side2 or side1==side3 or side2==side3:\n",
    "    print(\"Isosceles\")\n",
    "else:\n",
    "    print(\"Scalene\")\n",
    "\n"
   ]
  },
  {
   "cell_type": "markdown",
   "id": "96080bd0-bc90-450b-b22d-d1c5073ec75d",
   "metadata": {},
   "source": [
    "# 13."
   ]
  },
  {
   "cell_type": "code",
   "execution_count": 37,
   "id": "af9b2128-68a3-4beb-b71e-57273c3151c1",
   "metadata": {},
   "outputs": [
    {
     "name": "stdin",
     "output_type": "stream",
     "text": [
      "Enter a year:  2012\n"
     ]
    },
    {
     "name": "stdout",
     "output_type": "stream",
     "text": [
      "2012 is a leap year.\n"
     ]
    }
   ],
   "source": [
    "# 13. Write a program in Python to check a given year is leapyear or not.\n",
    "\n",
    "year=int(input(\"Enter a year: \"))\n",
    "\n",
    "if (year%4==0 and year%100!=0) or (year%400==0):\n",
    "    print(f\"{year} is a leap year.\")\n",
    "else:\n",
    "    print(f\"{year} is not a leap year.\")\n"
   ]
  },
  {
   "cell_type": "markdown",
   "id": "d415756d-530b-46eb-b530-ffae33fe2428",
   "metadata": {},
   "source": [
    "# 14."
   ]
  },
  {
   "cell_type": "code",
   "execution_count": 38,
   "id": "433ec2bb-b26c-4dcf-84be-2940122ccb82",
   "metadata": {},
   "outputs": [
    {
     "name": "stdin",
     "output_type": "stream",
     "text": [
      "Enter the marks for subject 1:  56\n",
      "Enter the marks for subject 2:  78\n",
      "Enter the marks for subject 3:  89\n",
      "Enter the marks for subject 4:  45\n"
     ]
    },
    {
     "name": "stdout",
     "output_type": "stream",
     "text": [
      "Average marks: 67.0\n",
      "Grade: B\n"
     ]
    }
   ],
   "source": [
    "# 14. Take marks of a student of four different subject find average depending on average find Grade(if marks >=75 i.e,’A’ or >=60 but <=75 i.e,’B’ or >=40 but <=60 i.e,’C’ or <=40 i.e,’D’).\n",
    "mark1 = float(input(\"Enter the marks for subject 1: \"))\n",
    "mark2 = float(input(\"Enter the marks for subject 2: \"))\n",
    "mark3 = float(input(\"Enter the marks for subject 3: \"))\n",
    "mark4 = float(input(\"Enter the marks for subject 4: \"))\n",
    "average = (mark1+mark2+mark3+mark4)/4\n",
    "if average>=75:\n",
    "    grade='A'\n",
    "elif average>=60:\n",
    "    grade='B'\n",
    "elif average>=40:\n",
    "    grade='C'\n",
    "else:\n",
    "    grade='D'\n",
    "print(f\"Average marks: {average}\")\n",
    "print(f\"Grade: {grade}\")\n"
   ]
  },
  {
   "cell_type": "markdown",
   "id": "c850c145-8246-4f4b-8acf-5be5ad56dfcb",
   "metadata": {},
   "source": [
    "# 15."
   ]
  },
  {
   "cell_type": "code",
   "execution_count": 41,
   "id": "f1025164-f9ea-487e-8d1f-a4cefd781308",
   "metadata": {},
   "outputs": [
    {
     "name": "stdout",
     "output_type": "stream",
     "text": [
      "Simple Calculator\n",
      "Operations: + (Addition), - (Subtraction), * (Multiplication), / (Division)\n"
     ]
    },
    {
     "name": "stdin",
     "output_type": "stream",
     "text": [
      "Enter the first number:  45\n",
      "Enter the operator (+, -, *, /):  +\n",
      "Enter the second number:  78\n"
     ]
    },
    {
     "name": "stdout",
     "output_type": "stream",
     "text": [
      "The result is: 123.0\n"
     ]
    }
   ],
   "source": [
    "# 15. Write a program in Python to implement a simple calculator\n",
    "\n",
    "print(\"Simple Calculator\")\n",
    "print(\"Operations: + (Addition), - (Subtraction), * (Multiplication), / (Division)\")\n",
    "num1=float(input(\"Enter the first number: \"))\n",
    "operator=input(\"Enter the operator (+, -, *, /): \")\n",
    "num2=float(input(\"Enter the second number: \"))\n",
    "if operator=='+':\n",
    "    result=num1+num2\n",
    "elif operator=='-':\n",
    "    result=num1-num2\n",
    "elif operator=='*':\n",
    "    result=num1*num2\n",
    "elif operator=='/':\n",
    "    result=num1/ num2\n",
    "else:\n",
    "    result=\"Error: Invalid operator\"\n",
    "\n",
    "print(f\"The result is: {result}\")\n"
   ]
  },
  {
   "cell_type": "markdown",
   "id": "b3146f26-ddb4-4067-86ea-558d317f0e72",
   "metadata": {},
   "source": [
    "# 16."
   ]
  },
  {
   "cell_type": "code",
   "execution_count": 1,
   "id": "3af02279-0b05-4ca1-a6e8-3b02f626261f",
   "metadata": {},
   "outputs": [
    {
     "name": "stdin",
     "output_type": "stream",
     "text": [
      "Enter coefficient a:  6\n",
      "Enter coefficient b:  17\n",
      "Enter coefficient c:  12\n"
     ]
    },
    {
     "name": "stdout",
     "output_type": "stream",
     "text": [
      "The roots of the quadratic equation are:  -1.5 and -1.3333333333333333\n"
     ]
    }
   ],
   "source": [
    "# 16. Write a program in Python to find the roots of Quadratic equation.\n",
    "#-b+^- sq root b^2-4ac/2ac\n",
    "import math\n",
    "\n",
    "a = float(input(\"Enter coefficient a: \"))\n",
    "b = float(input(\"Enter coefficient b: \"))\n",
    "c = float(input(\"Enter coefficient c: \"))\n",
    "\n",
    "if a == 0:\n",
    "    print(\"Coefficient 'a' cannot be zero in a quadratic equation.\")\n",
    "else:\n",
    "    discriminant = (b ** 2) - (4 * a * c)\n",
    "    \n",
    "    root1 = (-b - math.sqrt(discriminant)) / (2 * a)\n",
    "    root2 = (-b + math.sqrt(discriminant)) / (2 * a)\n",
    "    \n",
    "    print(\"The roots of the quadratic equation are: \",root1, \"and\",root2)"
   ]
  },
  {
   "cell_type": "markdown",
   "id": "77995de4-4b0b-4b7d-bad1-b6111d2c11dc",
   "metadata": {},
   "source": [
    "# 17."
   ]
  },
  {
   "cell_type": "code",
   "execution_count": 46,
   "id": "954d185f-3775-4a3c-8532-6e192ebcfab8",
   "metadata": {},
   "outputs": [
    {
     "name": "stdin",
     "output_type": "stream",
     "text": [
      "Enter the num till what u want to print:  4\n"
     ]
    },
    {
     "name": "stdout",
     "output_type": "stream",
     "text": [
      "1\n",
      "2\n",
      "3\n",
      "4\n"
     ]
    }
   ],
   "source": [
    "# 17. Write a program in Python to print 1 to n.\n",
    "num=int(input(\"Enter the num till what u want to print: \"))\n",
    "for i in range (1,num+1):\n",
    "    print(i)"
   ]
  },
  {
   "cell_type": "markdown",
   "id": "928df6b6-c486-45a4-8fe4-04095969505d",
   "metadata": {},
   "source": [
    "# 18."
   ]
  },
  {
   "cell_type": "code",
   "execution_count": 56,
   "id": "7a18d5d7-e532-485c-bb32-556b31a7fc33",
   "metadata": {},
   "outputs": [
    {
     "name": "stdin",
     "output_type": "stream",
     "text": [
      "Enter the num till what u want the sum of 5\n"
     ]
    },
    {
     "name": "stdout",
     "output_type": "stream",
     "text": [
      "15\n"
     ]
    }
   ],
   "source": [
    "# 18. Write a program in Python to print sum of natural number.\n",
    "num=int(input(\"Enter the num till what u want the sum of\"))\n",
    "n=0\n",
    "for i in range (0,num+1):\n",
    "    n=n+i\n",
    "print(n)\n",
    "    "
   ]
  },
  {
   "cell_type": "markdown",
   "id": "12be8cb0-e1cd-4e36-ad13-dc423ebbc48e",
   "metadata": {},
   "source": [
    "# 19."
   ]
  },
  {
   "cell_type": "code",
   "execution_count": 77,
   "id": "620c57af-8819-41fc-b5c8-8df76c7b929b",
   "metadata": {},
   "outputs": [
    {
     "name": "stdin",
     "output_type": "stream",
     "text": [
      "Give the digit:  58\n"
     ]
    },
    {
     "name": "stdout",
     "output_type": "stream",
     "text": [
      "13\n"
     ]
    }
   ],
   "source": [
    "# 19. Write a program in Python to print Sum of Digit.\n",
    "digit=input(\"Give the digit: \")\n",
    "sum=0\n",
    "for d in digit:\n",
    "    sum=sum+int(d)\n",
    "print(sum)"
   ]
  },
  {
   "cell_type": "markdown",
   "id": "458b7d07-c832-436a-8660-b775a30b3408",
   "metadata": {},
   "source": [
    "# 20."
   ]
  },
  {
   "cell_type": "code",
   "execution_count": 1,
   "id": "606cb05c-16ba-4fae-b731-a69a0566478c",
   "metadata": {},
   "outputs": [
    {
     "name": "stdin",
     "output_type": "stream",
     "text": [
      "Enter a positive integer:  45\n"
     ]
    },
    {
     "name": "stdout",
     "output_type": "stream",
     "text": [
      "Factors of 45 are:\n",
      "1\n",
      "3\n",
      "5\n",
      "9\n",
      "15\n",
      "45\n"
     ]
    }
   ],
   "source": [
    "# 20. Write a program in Python to print Factors of a Number.\n",
    "num=int(input(\"Enter a positive integer: \"))\n",
    "print(f\"Factors of {num} are:\")\n",
    "for i in range(1,num+1):\n",
    "    if num%i==0: \n",
    "        print(i)"
   ]
  },
  {
   "cell_type": "markdown",
   "id": "dc04e182-331f-4f2f-bf10-d134d3c13590",
   "metadata": {},
   "source": [
    "# 21."
   ]
  },
  {
   "cell_type": "code",
   "execution_count": 2,
   "id": "784a5628-8ea8-4944-9729-2af5b758e0b6",
   "metadata": {},
   "outputs": [
    {
     "name": "stdin",
     "output_type": "stream",
     "text": [
      "Enter a number:  456753\n"
     ]
    },
    {
     "name": "stdout",
     "output_type": "stream",
     "text": [
      "Reversed number is: 357654\n"
     ]
    }
   ],
   "source": [
    "# 21. Write a program in Python to print Reverse of a Number.\n",
    "num=input(\"Enter a number: \")\n",
    "reverse=num[::-1]\n",
    "print(f\"Reversed number is: {int(reverse)}\")"
   ]
  },
  {
   "cell_type": "markdown",
   "id": "ff1963f5-7b64-4f92-8687-88d476c728bf",
   "metadata": {},
   "source": [
    "# 22."
   ]
  },
  {
   "cell_type": "code",
   "execution_count": 3,
   "id": "8d3e37d7-41d9-4b0b-a515-6d8e4a50cdf1",
   "metadata": {},
   "outputs": [
    {
     "name": "stdin",
     "output_type": "stream",
     "text": [
      "Enter a positive integer:  5\n"
     ]
    },
    {
     "name": "stdout",
     "output_type": "stream",
     "text": [
      "Factorial of 5 is: 120\n"
     ]
    }
   ],
   "source": [
    "# 22.Write a Python program to find Factorial of a given number.\n",
    "num=int(input(\"Enter a positive integer: \"))\n",
    "fact=1\n",
    "for i in range(1,num+1):\n",
    "    fact=fact*i\n",
    "print(f\"Factorial of {num} is: {fact}\")"
   ]
  },
  {
   "cell_type": "markdown",
   "id": "c3321189-7afc-4e29-814e-e2749c3c8094",
   "metadata": {},
   "source": [
    "# 23."
   ]
  },
  {
   "cell_type": "code",
   "execution_count": 4,
   "id": "cd7d7cfd-5499-4dcf-a60b-34e9aa93a005",
   "metadata": {},
   "outputs": [
    {
     "name": "stdin",
     "output_type": "stream",
     "text": [
      "Enter the Number:  353\n"
     ]
    },
    {
     "name": "stdout",
     "output_type": "stream",
     "text": [
      "Palindrome\n"
     ]
    }
   ],
   "source": [
    "# 23.Write a Python program to check a number is palindrome or not\n",
    "num=(input(\"Enter the Number: \"))\n",
    "reverse=num[::-1]\n",
    "if(num==reverse and num.isdigit()):\n",
    "    print(\"Palindrome\")\n",
    "elif(num!=reverse and num.isdigit()):\n",
    "    print(\"Not a palindrome\")\n",
    "else:\n",
    "    print(\"Its not a number\")"
   ]
  },
  {
   "cell_type": "markdown",
   "id": "1d44de2b-184a-48ed-8591-25ae4389ab27",
   "metadata": {},
   "source": [
    "# 24."
   ]
  },
  {
   "cell_type": "code",
   "execution_count": 6,
   "id": "a63965a6-b14d-49c9-8b6e-fd5c2715cc00",
   "metadata": {},
   "outputs": [
    {
     "name": "stdin",
     "output_type": "stream",
     "text": [
      "Enter the number which want to check 11\n"
     ]
    },
    {
     "name": "stdout",
     "output_type": "stream",
     "text": [
      "Prime\n"
     ]
    }
   ],
   "source": [
    "# 24. Write a Python program to check a number is prime or not.\n",
    "import math\n",
    "num=int(input(\"Enter the number which want to check\"))\n",
    "c=2\n",
    "for i in range(1,num+1):\n",
    "    if (num<=1):\n",
    "        print(\"its one\")\n",
    "        break\n",
    "    if(c<num):\n",
    "        if(num%c==0):\n",
    "            print(\"not prime\")\n",
    "            break\n",
    "        else:\n",
    "            c=c+1\n",
    "    else:\n",
    "        print(\"Prime\")\n",
    "        break\n",
    "        "
   ]
  },
  {
   "cell_type": "markdown",
   "id": "3494dece-8250-4fe9-a4c3-7d7c8f43dd56",
   "metadata": {},
   "source": [
    "# 25."
   ]
  },
  {
   "cell_type": "code",
   "execution_count": 7,
   "id": "65c83dc8-ff1b-46b2-9cfd-47f34dfc6b9c",
   "metadata": {},
   "outputs": [
    {
     "name": "stdin",
     "output_type": "stream",
     "text": [
      "Enter a number:  153\n"
     ]
    },
    {
     "name": "stdout",
     "output_type": "stream",
     "text": [
      "Armstrong\n"
     ]
    }
   ],
   "source": [
    "# 25. Write a Python program to check a number is Armstrong or not.\n",
    "num=input(\"Enter a number: \")\n",
    "digits=len(num)\n",
    "sum=0\n",
    "\n",
    "for i in num:\n",
    "    sum=sum+int(i)** digits\n",
    "    \n",
    "if (sum==int(num)):\n",
    "    print(\"Armstrong\")\n",
    "else:\n",
    "    print(\"Not Armstrong\")"
   ]
  },
  {
   "cell_type": "markdown",
   "id": "1e9cde6f-e123-4dfa-b0dc-b24fef8b97b6",
   "metadata": {},
   "source": [
    "# 26."
   ]
  },
  {
   "cell_type": "code",
   "execution_count": 9,
   "id": "69eef051-47a0-4b1d-a305-062fed79276b",
   "metadata": {},
   "outputs": [
    {
     "name": "stdin",
     "output_type": "stream",
     "text": [
      "Enter the range:  5\n"
     ]
    },
    {
     "name": "stdout",
     "output_type": "stream",
     "text": [
      "0\n",
      "1\n",
      "1\n",
      "2\n",
      "3\n"
     ]
    }
   ],
   "source": [
    "# 26. Write a Python program to print Fibonacci series of n term\n",
    "num=int(input(\"Enter the range: \"))\n",
    "i=0\n",
    "prev=0\n",
    "next=1\n",
    "temp=0\n",
    "while i<num:\n",
    "    print(prev)\n",
    "    temp=next\n",
    "    next=next+prev\n",
    "    prev=temp\n",
    "    i=i+1"
   ]
  },
  {
   "cell_type": "markdown",
   "id": "c0b28bf7-7f16-411b-acff-7bb453ddf6f4",
   "metadata": {},
   "source": [
    "# 27."
   ]
  },
  {
   "cell_type": "code",
   "execution_count": 10,
   "id": "403114f9-417c-46a5-9165-742cd7a072c5",
   "metadata": {},
   "outputs": [
    {
     "name": "stdin",
     "output_type": "stream",
     "text": [
      "Enter the Number to see its multiplication table:  3\n"
     ]
    },
    {
     "name": "stdout",
     "output_type": "stream",
     "text": [
      "3 * 1 = 3\n",
      "3 * 2 = 6\n",
      "3 * 3 = 9\n",
      "3 * 4 = 12\n",
      "3 * 5 = 15\n",
      "3 * 6 = 18\n",
      "3 * 7 = 21\n",
      "3 * 8 = 24\n",
      "3 * 9 = 27\n",
      "3 * 10 = 30\n"
     ]
    }
   ],
   "source": [
    "# 27. Write a Python program to implement multiplication table\n",
    "i=1\n",
    "n=int(input(\"Enter the Number to see its multiplication table: \"))\n",
    "while i<=10:\n",
    "    print(n,\"*\",i,\"=\",n*i)\n",
    "    i=i+1\n",
    "    \n",
    "    "
   ]
  },
  {
   "cell_type": "markdown",
   "id": "b16c11ef-0936-4eb9-884a-f2d3c2b8d503",
   "metadata": {},
   "source": [
    "# 28."
   ]
  },
  {
   "cell_type": "code",
   "execution_count": 11,
   "id": "057797e6-4450-41b5-a683-bac66d86a60b",
   "metadata": {},
   "outputs": [
    {
     "name": "stdin",
     "output_type": "stream",
     "text": [
      "Enter a list of values separated by space:  Sohan jai jors\n"
     ]
    },
    {
     "name": "stdout",
     "output_type": "stream",
     "text": [
      "Your list is: ['Sohan', 'jai', 'jors']\n"
     ]
    }
   ],
   "source": [
    "# 28. Write a Python program to take a input from user in a list and print it.\n",
    "user=input(\"Enter a list of values separated by space: \")\n",
    "list=user.split()\n",
    "print(\"Your list is:\", list)\n"
   ]
  },
  {
   "cell_type": "markdown",
   "id": "205f2af4-c7ab-4b18-9db7-a4bb45c4ca21",
   "metadata": {},
   "source": [
    "# 29."
   ]
  },
  {
   "cell_type": "code",
   "execution_count": 12,
   "id": "ebf71ed3-12e6-40d6-946b-9ef274ed1dc6",
   "metadata": {},
   "outputs": [
    {
     "name": "stdin",
     "output_type": "stream",
     "text": [
      "Enter a list of values separated by space:  1 2 3 4 5\n"
     ]
    },
    {
     "name": "stdout",
     "output_type": "stream",
     "text": [
      "Your list is: ['1', '2', '3', '4', '5']\n",
      "Average is  3.0\n"
     ]
    }
   ],
   "source": [
    "# 29. Write a Python program to find the average of n numbers using list.\n",
    "user=input(\"Enter a list of values separated by space: \")\n",
    "list=user.split()\n",
    "print(\"Your list is:\", list)\n",
    "i=0\n",
    "sum=0\n",
    "while i<len(list):\n",
    "    sum=sum+int(list[i])\n",
    "    i=i+1\n",
    "\n",
    "print(\"Average is \",sum/len(list))"
   ]
  },
  {
   "cell_type": "markdown",
   "id": "59c49759-81de-450f-b850-9d4f3b2af79f",
   "metadata": {},
   "source": [
    "# 30."
   ]
  },
  {
   "cell_type": "code",
   "execution_count": 13,
   "id": "f8ce3218-ab7f-43e5-b77e-18a3b0bb240f",
   "metadata": {},
   "outputs": [
    {
     "name": "stdin",
     "output_type": "stream",
     "text": [
      "Enter a list of values separated by space:  3 5 7 2 76 32 13 64\n"
     ]
    },
    {
     "name": "stdout",
     "output_type": "stream",
     "text": [
      "Your list is: ['3', '5', '7', '2', '76', '32', '13', '64']\n",
      "largest is  76\n"
     ]
    }
   ],
   "source": [
    "# 30. Write a Python program to find the largest element in the list.\n",
    "user=input(\"Enter a list of values separated by space: \")\n",
    "list=user.split()\n",
    "print(\"Your list is:\", list)\n",
    "i=0\n",
    "prev=0\n",
    "while i<len(list):\n",
    "    if prev<int(list[i]):\n",
    "        prev=int(list[i])\n",
    "    i=i+1\n",
    "\n",
    "\n",
    "print(\"largest is \",prev)"
   ]
  },
  {
   "cell_type": "markdown",
   "id": "6892f51b-d44d-4775-b156-370c84d7cec0",
   "metadata": {},
   "source": [
    "# 31."
   ]
  },
  {
   "cell_type": "code",
   "execution_count": 3,
   "id": "a4c30627-0e4e-44a6-bfc0-15502dc5e39d",
   "metadata": {},
   "outputs": [
    {
     "name": "stdin",
     "output_type": "stream",
     "text": [
      "Enter the Element u want to search 5\n"
     ]
    },
    {
     "name": "stdout",
     "output_type": "stream",
     "text": [
      "Element found..\n"
     ]
    }
   ],
   "source": [
    "# 31. Write a Python program to perform Linear search\n",
    "elementtt=[1,2,3,4,5]\n",
    "n=int(input(\"Enter the Element u want to search\"))\n",
    "for i in elementtt:\n",
    "    if(n==i):\n",
    "        print(\"Element found..\")\n",
    "        break\n",
    "else:\n",
    "    print(\"Not Found...\")"
   ]
  },
  {
   "cell_type": "markdown",
   "id": "74a1ffa3-dcea-425f-8f9b-717f72cac02f",
   "metadata": {},
   "source": [
    "# 32."
   ]
  },
  {
   "cell_type": "code",
   "execution_count": 5,
   "id": "46ebc5d6-380e-4736-bdb8-432c31d545e0",
   "metadata": {},
   "outputs": [
    {
     "name": "stdin",
     "output_type": "stream",
     "text": [
      "Enter how many snetences u want to insert:  2\n",
      "Enter:  Hello world\n",
      "Enter:  Practice makes perfect\n"
     ]
    },
    {
     "name": "stdout",
     "output_type": "stream",
     "text": [
      "HELLO WORLD\n",
      "PRACTICE MAKES PERFECT\n"
     ]
    }
   ],
   "source": [
    "#32. Write a program that accepts sequence of lines as input and prints the lines after making all characters in the sentence capitalized.\n",
    "#Suppose the following input is supplied to the program:\n",
    "#Hello world\n",
    "#Practice makes perfect\n",
    "#Then, the output should be:\n",
    "#HELLO WORLD\n",
    "#PRACTICE MAKES PERFECT\n",
    "elementtt=[]\n",
    "n=int(input(\"Enter how many snetences u want to insert: \"))\n",
    "for i in range(n):\n",
    "    elementtt.append(input(\"Enter: \"))\n",
    "capital=[]\n",
    "for j in elementtt :\n",
    "    capital.append(j.upper())\n",
    "\n",
    "for k in capital:\n",
    "    print(k)\n",
    "\n",
    "\n",
    "\n"
   ]
  },
  {
   "cell_type": "markdown",
   "id": "f779a2b0-01de-42f2-a239-8515ba996722",
   "metadata": {},
   "source": [
    "# 33."
   ]
  },
  {
   "cell_type": "code",
   "execution_count": 7,
   "id": "e5c24afb-229f-46bb-a969-ff44975cd3d0",
   "metadata": {},
   "outputs": [
    {
     "name": "stdin",
     "output_type": "stream",
     "text": [
      "give the numbers seperated by comma:  34,67,55,33,12,98\n"
     ]
    },
    {
     "name": "stdout",
     "output_type": "stream",
     "text": [
      "['34', '67', '55', '33', '12', '98']\n",
      "('34', '67', '55', '33', '12', '98')\n"
     ]
    }
   ],
   "source": [
    "# 33. Write a program which accepts a sequence of comma‐separated numbers from console and generate a list and a tuple which contains every number.\n",
    "# Suppose the following input is supplied to the program:\n",
    "# 34,67,55,33,12,98\n",
    "# Then, the output should be:\n",
    "# ['34', '67', '55', '33', '12', '98']\n",
    "# ('34', '67', '55', '33', '12', '98') \n",
    "numbers=input(\"give the numbers seperated by comma: \")\n",
    "split=numbers.split(',')\n",
    "tup=tuple(split)\n",
    "print(split)\n",
    "print(tup)"
   ]
  },
  {
   "cell_type": "markdown",
   "id": "5c9d1134-d257-49e1-8bae-05cffd353649",
   "metadata": {},
   "source": [
    "# 34."
   ]
  },
  {
   "cell_type": "code",
   "execution_count": 8,
   "id": "c1d54bf7-d2b3-4d5f-8616-987ac97a0337",
   "metadata": {},
   "outputs": [
    {
     "name": "stdin",
     "output_type": "stream",
     "text": [
      " D 200\n",
      " D 300\n",
      " W 200\n",
      " \n"
     ]
    },
    {
     "name": "stdout",
     "output_type": "stream",
     "text": [
      "300\n"
     ]
    }
   ],
   "source": [
    "#34.\tWrite a program that computes the net amount of a bank account based a transaction log from console input. The transaction log format is shown as following:\n",
    "#D 100\n",
    "#W 200\n",
    "#¡\n",
    "#D means deposit while W means withdrawal.\n",
    "#Suppose the following input is supplied to the program:\n",
    "#D 300\n",
    "#D 300\n",
    "#W 200\n",
    "#D 100\n",
    "#Then, the output should be:\n",
    "#500\n",
    "net_amount = 0\n",
    "\n",
    "while True:\n",
    "    transaction = input()\n",
    "    if transaction == \"\":\n",
    "        break\n",
    "    action, amount = transaction.split()\n",
    "    amount = int(amount)\n",
    "    if action == \"D\":\n",
    "        net_amount += amount\n",
    "    elif action == \"W\":\n",
    "        net_amount -= amount\n",
    "\n",
    "print(net_amount)"
   ]
  },
  {
   "cell_type": "code",
   "execution_count": null,
   "id": "09946d4a-3c2c-4322-9138-7fdd4e4f3db3",
   "metadata": {},
   "outputs": [],
   "source": []
  }
 ],
 "metadata": {
  "kernelspec": {
   "display_name": "Python 3 (ipykernel)",
   "language": "python",
   "name": "python3"
  },
  "language_info": {
   "codemirror_mode": {
    "name": "ipython",
    "version": 3
   },
   "file_extension": ".py",
   "mimetype": "text/x-python",
   "name": "python",
   "nbconvert_exporter": "python",
   "pygments_lexer": "ipython3",
   "version": "3.12.4"
  }
 },
 "nbformat": 4,
 "nbformat_minor": 5
}
